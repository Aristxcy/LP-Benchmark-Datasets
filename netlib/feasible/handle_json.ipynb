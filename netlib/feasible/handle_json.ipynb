{
 "cells": [
  {
   "cell_type": "code",
   "execution_count": 91,
   "metadata": {},
   "outputs": [],
   "source": [
    "import json\n",
    "import os\n",
    "import pandas as pd"
   ]
  },
  {
   "cell_type": "code",
   "execution_count": 92,
   "metadata": {},
   "outputs": [],
   "source": [
    "path = './gurobi_solve/'\n",
    "files = os.listdir(path)"
   ]
  },
  {
   "cell_type": "code",
   "execution_count": 93,
   "metadata": {},
   "outputs": [],
   "source": [
    "json_file_list = []\n",
    "for filename in files:\n",
    "    if os.path.splitext(filename)[1] == '.json':\n",
    "        json_file = path + filename\n",
    "        json_file_list.append(json_file)  \n",
    "\n",
    "with open(json_file_list[0], 'r') as json_obj:\n",
    "    json_data = json.load(json_obj)\n",
    "    keys = json_data.keys()\n",
    "    values = json_data.values()\n",
    "    df = pd.DataFrame({\"1\": keys, \"2\": values}, index = None)\n",
    "    df = df.T   \n",
    "    \n",
    "for i in range(1, len(json_file_list)):\n",
    "    with open(json_file_list[i], 'r') as json_obj_1:\n",
    "        json_data_1 = json.load(json_obj_1)\n",
    "        keys_1 = json_data_1.keys()\n",
    "        values_1 = json_data_1.values()\n",
    "        df1 = pd.DataFrame({\"1\": keys_1, \"2\": values_1}, index = None)\n",
    "        df1 = df1.T\n",
    "        df = df.append(df1[-1:], ignore_index=True)     \n"
   ]
  },
  {
   "cell_type": "code",
   "execution_count": 97,
   "metadata": {},
   "outputs": [
    {
     "data": {
      "text/html": [
       "<div>\n",
       "<style scoped>\n",
       "    .dataframe tbody tr th:only-of-type {\n",
       "        vertical-align: middle;\n",
       "    }\n",
       "\n",
       "    .dataframe tbody tr th {\n",
       "        vertical-align: top;\n",
       "    }\n",
       "\n",
       "    .dataframe thead th {\n",
       "        text-align: right;\n",
       "    }\n",
       "</style>\n",
       "<table border=\"1\" class=\"dataframe\">\n",
       "  <thead>\n",
       "    <tr style=\"text-align: right;\">\n",
       "      <th></th>\n",
       "      <th>status</th>\n",
       "      <th>ipm_iter</th>\n",
       "      <th>admm_iter</th>\n",
       "      <th>pobj</th>\n",
       "      <th>dobj</th>\n",
       "      <th>resPri</th>\n",
       "      <th>resDual</th>\n",
       "      <th>relGap</th>\n",
       "      <th>resInfeas</th>\n",
       "      <th>resUnbdd</th>\n",
       "      <th>setupTime</th>\n",
       "      <th>solveTime</th>\n",
       "      <th>originalRatio</th>\n",
       "      <th>rescalingTime</th>\n",
       "      <th>rescalingRatio</th>\n",
       "      <th>tol</th>\n",
       "      <th>method</th>\n",
       "      <th>instance</th>\n",
       "    </tr>\n",
       "  </thead>\n",
       "  <tbody>\n",
       "    <tr>\n",
       "      <th>0</th>\n",
       "      <td>Solved</td>\n",
       "      <td>67</td>\n",
       "      <td>20219</td>\n",
       "      <td>-158.628328</td>\n",
       "      <td>-158.628328</td>\n",
       "      <td>9.235739e-07</td>\n",
       "      <td>9.882783e-07</td>\n",
       "      <td>2.886650e-07</td>\n",
       "      <td>NaN</td>\n",
       "      <td>13.417935</td>\n",
       "      <td>0.003997</td>\n",
       "      <td>0.632663</td>\n",
       "      <td>2998.50075</td>\n",
       "      <td>0.006333</td>\n",
       "      <td>1.002246</td>\n",
       "      <td>0.000001</td>\n",
       "      <td>abip_rescaling</td>\n",
       "      <td>bandm</td>\n",
       "    </tr>\n",
       "    <tr>\n",
       "      <th>1</th>\n",
       "      <td>Solved</td>\n",
       "      <td>70</td>\n",
       "      <td>68358</td>\n",
       "      <td>-335.224359</td>\n",
       "      <td>-335.224359</td>\n",
       "      <td>9.390212e-07</td>\n",
       "      <td>9.985668e-07</td>\n",
       "      <td>6.148256e-07</td>\n",
       "      <td>NaN</td>\n",
       "      <td>69.446846</td>\n",
       "      <td>0.003825</td>\n",
       "      <td>2.760374</td>\n",
       "      <td>3102.58496</td>\n",
       "      <td>0.046007</td>\n",
       "      <td>1.002388</td>\n",
       "      <td>0.000001</td>\n",
       "      <td>abip_rescaling</td>\n",
       "      <td>boeing1</td>\n",
       "    </tr>\n",
       "  </tbody>\n",
       "</table>\n",
       "</div>"
      ],
      "text/plain": [
       "   status  ipm_iter  admm_iter        pobj        dobj        resPri  \\\n",
       "0  Solved        67      20219 -158.628328 -158.628328  9.235739e-07   \n",
       "1  Solved        70      68358 -335.224359 -335.224359  9.390212e-07   \n",
       "\n",
       "        resDual        relGap  resInfeas   resUnbdd  setupTime  solveTime  \\\n",
       "0  9.882783e-07  2.886650e-07        NaN  13.417935   0.003997   0.632663   \n",
       "1  9.985668e-07  6.148256e-07        NaN  69.446846   0.003825   2.760374   \n",
       "\n",
       "   originalRatio  rescalingTime  rescalingRatio       tol          method  \\\n",
       "0     2998.50075       0.006333        1.002246  0.000001  abip_rescaling   \n",
       "1     3102.58496       0.046007        1.002388  0.000001  abip_rescaling   \n",
       "\n",
       "  instance  \n",
       "0    bandm  \n",
       "1  boeing1  "
      ]
     },
     "execution_count": 97,
     "metadata": {},
     "output_type": "execute_result"
    }
   ],
   "source": [
    "df.to_excel('./1.xlsx', header=None, index= None)\n",
    "df = pd.read_excel('./1.xlsx')\n",
    "df"
   ]
  },
  {
   "cell_type": "code",
   "execution_count": 99,
   "metadata": {},
   "outputs": [],
   "source": [
    "df.to_excel('./gurobi_1e-8.xlsx', index = None)\n",
    "os.remove('./1.xlsx')"
   ]
  }
 ],
 "metadata": {
  "interpreter": {
   "hash": "07efdcd4b820c98a756949507a4d29d7862823915ec7477944641bea022f4f62"
  },
  "kernelspec": {
   "display_name": "Python 3.8.8 ('base')",
   "language": "python",
   "name": "python3"
  },
  "language_info": {
   "codemirror_mode": {
    "name": "ipython",
    "version": 3
   },
   "file_extension": ".py",
   "mimetype": "text/x-python",
   "name": "python",
   "nbconvert_exporter": "python",
   "pygments_lexer": "ipython3",
   "version": "3.8.8"
  },
  "orig_nbformat": 4
 },
 "nbformat": 4,
 "nbformat_minor": 2
}
